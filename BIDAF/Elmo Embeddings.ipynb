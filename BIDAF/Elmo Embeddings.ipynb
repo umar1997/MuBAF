{
 "cells": [
  {
   "cell_type": "code",
   "execution_count": 1,
   "id": "a22bd3a9",
   "metadata": {},
   "outputs": [
    {
     "data": {
      "text/plain": [
       "'1.11.0+cu102'"
      ]
     },
     "execution_count": 1,
     "metadata": {},
     "output_type": "execute_result"
    }
   ],
   "source": [
    "import torch\n",
    "torch.__version__"
   ]
  },
  {
   "cell_type": "code",
   "execution_count": 2,
   "id": "f2edbb40",
   "metadata": {},
   "outputs": [
    {
     "data": {
      "text/plain": [
       "'0.9.0'"
      ]
     },
     "execution_count": 2,
     "metadata": {},
     "output_type": "execute_result"
    }
   ],
   "source": [
    "import allennlp\n",
    "allennlp.__version__"
   ]
  },
  {
   "cell_type": "code",
   "execution_count": 3,
   "id": "87766521",
   "metadata": {},
   "outputs": [
    {
     "name": "stderr",
     "output_type": "stream",
     "text": [
      "/home/umar.salman/NLP_Models/mubafEnv/lib/python3.8/site-packages/numpy/core/getlimits.py:499: UserWarning: The value of the smallest subnormal for <class 'numpy.float64'> type is zero.\n",
      "  setattr(self, word, getattr(machar, word).flat[0])\n",
      "/home/umar.salman/NLP_Models/mubafEnv/lib/python3.8/site-packages/numpy/core/getlimits.py:89: UserWarning: The value of the smallest subnormal for <class 'numpy.float64'> type is zero.\n",
      "  return self._float_to_str(self.smallest_subnormal)\n",
      "/home/umar.salman/NLP_Models/mubafEnv/lib/python3.8/site-packages/numpy/core/getlimits.py:499: UserWarning: The value of the smallest subnormal for <class 'numpy.float32'> type is zero.\n",
      "  setattr(self, word, getattr(machar, word).flat[0])\n",
      "/home/umar.salman/NLP_Models/mubafEnv/lib/python3.8/site-packages/numpy/core/getlimits.py:89: UserWarning: The value of the smallest subnormal for <class 'numpy.float32'> type is zero.\n",
      "  return self._float_to_str(self.smallest_subnormal)\n"
     ]
    }
   ],
   "source": [
    "from allennlp.commands.elmo import ElmoEmbedder"
   ]
  },
  {
   "cell_type": "code",
   "execution_count": 4,
   "id": "ad068175",
   "metadata": {},
   "outputs": [],
   "source": [
    "elmo = ElmoEmbedder(\n",
    "    options_file = './data/ELMo/options_128.json',\n",
    "    weight_file = './data/ELMo/elmo_weights_128.hdf5'\n",
    "#     options_file='https://s3-us-west-2.amazonaws.com/allennlp/models/elmo/2x4096_512_2048cnn_2xhighway_5.5B/elmo_2x4096_512_2048cnn_2xhighway_5.5B_options.json', \n",
    "#     weight_file='https://s3-us-west-2.amazonaws.com/allennlp/models/elmo/2x4096_512_2048cnn_2xhighway_5.5B/elmo_2x4096_512_2048cnn_2xhighway_5.5B_weights.hdf5'\n",
    ")"
   ]
  },
  {
   "cell_type": "code",
   "execution_count": 5,
   "id": "ea8ca074",
   "metadata": {},
   "outputs": [],
   "source": [
    "# elmo = ElmoEmbedder()\n",
    "tokens = [\"I\", \"ate\", \"an\", \"apple\", \"for\", \"breakfast\"]\n",
    "vectors = elmo.embed_sentence(tokens)\n",
    "\n",
    "assert(len(vectors) == 3) # one for each layer in the ELMo output\n",
    "assert(len(vectors[0]) == len(tokens)) # the vector elements \n",
    "# correspond with the input tokens\n",
    "\n",
    "import scipy\n",
    "vectors2 = elmo.embed_sentence([\"I\", \"ate\", \",\", \"carrot\", \"for\", 'breakfast'])\n",
    "# scipy.spatial.distance.cosine(vectors[2][3], vectors2[2][3]) # cosine \n",
    "# distance between \"apple\" and \"carrot\" in the last layer\n",
    "# 0.18020617961883545"
   ]
  },
  {
   "cell_type": "code",
   "execution_count": 6,
   "id": "0165c4dd",
   "metadata": {},
   "outputs": [
    {
     "data": {
      "text/plain": [
       "(3, 6, 256)"
      ]
     },
     "execution_count": 6,
     "metadata": {},
     "output_type": "execute_result"
    }
   ],
   "source": [
    "vectors.shape"
   ]
  },
  {
   "cell_type": "code",
   "execution_count": 7,
   "id": "d9be79dd",
   "metadata": {},
   "outputs": [
    {
     "data": {
      "text/plain": [
       "(3, 6, 256)"
      ]
     },
     "execution_count": 7,
     "metadata": {},
     "output_type": "execute_result"
    }
   ],
   "source": [
    "vectors2.shape"
   ]
  },
  {
   "cell_type": "code",
   "execution_count": 9,
   "id": "242771a5",
   "metadata": {},
   "outputs": [
    {
     "data": {
      "text/plain": [
       "24"
      ]
     },
     "execution_count": 9,
     "metadata": {},
     "output_type": "execute_result"
    }
   ],
   "source": [
    "k = \"Parses the glove word vectors text file and returns a dictionary with the words as keys and their respective pretrained word vectors as values.\"\n",
    "k = k.split()\n",
    "len(k)\n"
   ]
  },
  {
   "cell_type": "code",
   "execution_count": 10,
   "id": "b4b5c73d",
   "metadata": {},
   "outputs": [],
   "source": [
    "v = elmo.embed_sentence(k)"
   ]
  },
  {
   "cell_type": "code",
   "execution_count": 11,
   "id": "95c549b5",
   "metadata": {},
   "outputs": [
    {
     "data": {
      "text/plain": [
       "(3, 24, 256)"
      ]
     },
     "execution_count": 11,
     "metadata": {},
     "output_type": "execute_result"
    }
   ],
   "source": [
    "v.shape"
   ]
  },
  {
   "cell_type": "code",
   "execution_count": 12,
   "id": "5505575f",
   "metadata": {},
   "outputs": [
    {
     "data": {
      "text/plain": [
       "array([ 0.98414004,  1.097419  ,  0.22431034,  0.2675931 , -0.03556252,\n",
       "        1.0143404 , -0.7773695 ,  1.9173434 ,  0.44027215,  0.51845396,\n",
       "       -0.49286708, -0.34818935,  0.20362115, -0.4969882 , -0.17429557,\n",
       "       -0.05919814,  0.6008842 , -0.8473847 ,  0.1919012 ,  0.12683177,\n",
       "       -0.21673015,  0.32311904, -0.30104855,  0.63411045, -0.26321542,\n",
       "        0.13956282,  1.457838  , -0.41178983,  0.3797187 ,  0.22074537,\n",
       "       -0.03460997,  0.09741724,  0.13742656, -1.390963  ,  0.89159   ,\n",
       "        1.1719571 , -0.9387497 , -0.4641406 ,  0.27353892,  0.50014246,\n",
       "        0.3610595 ,  0.3115031 ,  0.08311346, -0.21406634, -1.5561339 ,\n",
       "       -0.50943345,  0.21281993, -0.24207036,  1.5599464 , -1.5276387 ,\n",
       "        0.8911087 , -0.31473744,  0.42581028, -1.0438894 , -0.51828885,\n",
       "        1.092777  , -0.21566665,  0.20660985, -0.83415574,  0.5274594 ,\n",
       "       -0.20901132,  0.4642461 , -0.11756718, -0.26544815, -0.4171331 ,\n",
       "        0.0350351 ,  0.8384843 , -0.7871188 ,  0.2414946 ,  0.0856864 ,\n",
       "       -0.347035  ,  1.9299532 , -0.7999084 , -0.12693845, -0.8660287 ,\n",
       "       -1.3789293 ,  0.24082172, -0.3887377 ,  0.71390927, -0.42616868,\n",
       "        1.1472976 ,  0.28475165,  0.09742982, -0.5203528 ,  0.31242117,\n",
       "       -2.4359703 ,  0.29936725,  0.3068098 , -0.16323832, -0.5407021 ,\n",
       "        0.66950953, -0.930342  , -0.08830388,  1.4135337 , -0.25337797,\n",
       "        0.2914025 , -1.0823377 , -0.22221038,  0.10052311, -1.2025603 ,\n",
       "        0.5678582 , -0.91764694,  0.00996929, -1.0518061 ,  0.29015765,\n",
       "        0.3737702 , -0.71123946, -0.7098026 ,  0.14214993, -0.82519925,\n",
       "       -2.2871947 ,  0.4510705 ,  1.2446895 ,  0.22132853,  0.34629247,\n",
       "        0.41617575,  0.29101878,  0.538164  , -0.20858657,  0.6132977 ,\n",
       "        0.6448517 ,  1.1849    ,  0.201969  ,  2.107943  , -0.06083931,\n",
       "       -0.14742704, -0.29961023,  0.34085554,  0.48900688,  1.0186722 ,\n",
       "       -0.22735906,  0.5041133 , -0.05637555,  0.98838246,  1.1848823 ,\n",
       "       -0.652611  ,  0.9451935 ,  0.7580614 ,  1.1170765 ,  0.25772232,\n",
       "        0.3971116 , -1.2283938 , -0.7879099 , -0.3437992 ,  0.1267757 ,\n",
       "        0.6547796 ,  0.5503296 ,  0.3230843 ,  0.9072503 ,  0.9874862 ,\n",
       "        0.4657206 , -0.8631809 ,  0.0965822 ,  0.40167233,  0.6178968 ,\n",
       "        0.13878788,  0.910538  ,  0.19785728, -0.44784456, -0.7502567 ,\n",
       "       -0.7673807 , -0.85281634,  0.5441245 ,  1.4551873 , -1.0714968 ,\n",
       "       -0.52994746,  0.09196495,  0.02275978,  1.1905954 , -0.64283216,\n",
       "        0.75009483, -0.13949108, -0.5577207 , -0.14617836, -1.0164348 ,\n",
       "        0.10338825,  0.41994363, -0.33799386, -0.29214674, -0.71539956,\n",
       "        0.72708213, -0.6807298 , -0.3640046 ,  0.4045612 , -0.19139965,\n",
       "       -0.21853086,  0.20961466,  0.07638207, -0.13961945,  1.3089368 ,\n",
       "       -0.00675593, -1.1583824 , -0.42501503, -0.86296564, -0.1546637 ,\n",
       "       -1.4271137 , -0.84413147, -0.14584379, -0.41668677,  2.1566148 ,\n",
       "        0.51925474,  0.8300307 ,  0.16701761, -0.30787888,  0.85746956,\n",
       "        0.28843454,  0.89741033,  0.15348095, -0.6902418 , -0.5024838 ,\n",
       "        1.8209908 ,  0.28314844, -0.23174804, -0.70302385, -1.389143  ,\n",
       "       -1.0701542 ,  1.1779888 , -1.0656391 ,  1.1502563 , -1.7002405 ,\n",
       "       -0.1294585 ,  0.74108773, -0.9017674 , -0.5617813 , -0.38118565,\n",
       "       -0.2565135 , -0.37201315, -0.0383283 , -0.24636579, -0.43414262,\n",
       "       -0.66142464, -0.7548138 , -0.2471886 , -0.51129866,  0.17397872,\n",
       "        0.845749  ,  0.32620338, -0.80216765, -1.3451192 ,  0.00995764,\n",
       "       -0.6627561 ,  0.7249956 ,  0.6675628 ,  0.48996538, -0.6814199 ,\n",
       "        0.11573745, -0.38106412, -0.5445265 , -0.2052927 ,  0.07714948,\n",
       "        0.7867559 ,  2.0969706 ,  0.38769615, -0.10446921, -0.12235144,\n",
       "        0.18250859], dtype=float32)"
      ]
     },
     "execution_count": 12,
     "metadata": {},
     "output_type": "execute_result"
    }
   ],
   "source": [
    "v[2][23]"
   ]
  },
  {
   "cell_type": "code",
   "execution_count": null,
   "id": "723b246e",
   "metadata": {},
   "outputs": [],
   "source": []
  }
 ],
 "metadata": {
  "kernelspec": {
   "display_name": "Python 3 (ipykernel)",
   "language": "python",
   "name": "python3"
  },
  "language_info": {
   "codemirror_mode": {
    "name": "ipython",
    "version": 3
   },
   "file_extension": ".py",
   "mimetype": "text/x-python",
   "name": "python",
   "nbconvert_exporter": "python",
   "pygments_lexer": "ipython3",
   "version": "3.8.12"
  }
 },
 "nbformat": 4,
 "nbformat_minor": 5
}
